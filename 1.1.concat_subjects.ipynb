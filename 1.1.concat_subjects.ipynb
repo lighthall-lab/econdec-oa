{
 "cells": [
  {
   "cell_type": "code",
   "execution_count": 12,
   "metadata": {},
   "outputs": [],
   "source": [
    "import pandas as pd\n",
    "import numpy as np\n",
    "from os import path,listdir"
   ]
  },
  {
   "cell_type": "markdown",
   "metadata": {},
   "source": [
    "making pathways/ addresses"
   ]
  },
  {
   "cell_type": "code",
   "execution_count": 13,
   "metadata": {},
   "outputs": [],
   "source": [
    "dataset_list = [\n",
    "    path.join('..','..','econdec','sourcedata','ds1'),\n",
    "    path.join('..','sourcedata'),\n",
    "]\n",
    "derivs_dir = path.join('..','derivatives')"
   ]
  },
  {
   "cell_type": "code",
   "execution_count": 14,
   "metadata": {},
   "outputs": [],
   "source": [
    "source_dir = dataset_list[0]"
   ]
  },
  {
   "cell_type": "code",
   "execution_count": 15,
   "metadata": {
    "scrolled": true
   },
   "outputs": [
    {
     "name": "stdout",
     "output_type": "stream",
     "text": [
      "..\\..\\econdec\\sourcedata\\ds1\\sub-100\\sub-100_task-main_beh.xlsx\n",
      "..\\..\\econdec\\sourcedata\\ds1\\sub-101\\sub-101_task-main_beh.xlsx\n",
      "..\\..\\econdec\\sourcedata\\ds1\\sub-102\\sub-102_task-main_beh.xlsx\n",
      "..\\..\\econdec\\sourcedata\\ds1\\sub-103\\sub-103_task-main_beh.xlsx\n",
      "..\\..\\econdec\\sourcedata\\ds1\\sub-104\\sub-104_task-main_beh.xlsx\n",
      "..\\..\\econdec\\sourcedata\\ds1\\sub-105\\sub-105_task-main_beh.xlsx\n",
      "..\\..\\econdec\\sourcedata\\ds1\\sub-106\\sub-106_task-main_beh.xlsx\n",
      "..\\..\\econdec\\sourcedata\\ds1\\sub-107\\sub-107_task-main_beh.xlsx\n",
      "..\\..\\econdec\\sourcedata\\ds1\\sub-108\\sub-108_task-main_beh.xlsx\n",
      "..\\..\\econdec\\sourcedata\\ds1\\sub-109\\sub-109_task-main_beh.xlsx\n",
      "..\\..\\econdec\\sourcedata\\ds1\\sub-110\\sub-110_task-main_beh.xlsx\n",
      "..\\..\\econdec\\sourcedata\\ds1\\sub-111\\sub-111_task-main_beh.xlsx\n",
      "..\\..\\econdec\\sourcedata\\ds1\\sub-112\\sub-112_task-main_beh.xlsx\n",
      "..\\..\\econdec\\sourcedata\\ds1\\sub-113\\sub-113_task-main_beh.xlsx\n",
      "..\\..\\econdec\\sourcedata\\ds1\\sub-114\\sub-114_task-main_beh.xlsx\n",
      "..\\..\\econdec\\sourcedata\\ds1\\sub-115\\sub-115_task-main_beh.xlsx\n",
      "..\\..\\econdec\\sourcedata\\ds1\\sub-116\\sub-116_task-main_beh.xlsx\n",
      "..\\..\\econdec\\sourcedata\\ds1\\sub-117\\sub-117_task-main_beh.xlsx\n",
      "..\\..\\econdec\\sourcedata\\ds1\\sub-118\\sub-118_task-main_beh.xlsx\n",
      "..\\..\\econdec\\sourcedata\\ds1\\sub-119\\sub-119_task-main_beh.xlsx\n",
      "..\\..\\econdec\\sourcedata\\ds1\\sub-120\\sub-120_task-main_beh.xlsx\n",
      "..\\..\\econdec\\sourcedata\\ds1\\sub-121\\sub-121_task-main_beh.xlsx\n",
      "..\\..\\econdec\\sourcedata\\ds1\\sub-122\\sub-122_task-main_beh.xlsx\n",
      "..\\..\\econdec\\sourcedata\\ds1\\sub-123\\sub-123_task-main_beh.xlsx\n",
      "..\\..\\econdec\\sourcedata\\ds1\\sub-124\\sub-124_task-main_beh.xlsx\n",
      "..\\..\\econdec\\sourcedata\\ds1\\sub-125\\sub-125_task-main_beh.xlsx\n",
      "..\\..\\econdec\\sourcedata\\ds1\\sub-126\\sub-126_task-main_beh.xlsx\n",
      "..\\..\\econdec\\sourcedata\\ds1\\sub-127\\sub-127_task-main_beh.xlsx\n",
      "..\\..\\econdec\\sourcedata\\ds1\\sub-128\\sub-128_task-main_beh.xlsx\n",
      "..\\..\\econdec\\sourcedata\\ds1\\sub-129\\sub-129_task-main_beh.xlsx\n",
      "..\\..\\econdec\\sourcedata\\ds1\\sub-130\\sub-130_task-main_beh.xlsx\n",
      "..\\..\\econdec\\sourcedata\\ds1\\sub-131\\sub-131_task-main_beh.xlsx\n",
      "..\\..\\econdec\\sourcedata\\ds1\\sub-132\\sub-132_task-main_beh.xlsx\n",
      "..\\..\\econdec\\sourcedata\\ds1\\sub-133\\sub-133_task-main_beh.xlsx\n",
      "..\\..\\econdec\\sourcedata\\ds1\\sub-134\\sub-134_task-main_beh.xlsx\n",
      "..\\..\\econdec\\sourcedata\\ds1\\sub-135\\sub-135_task-main_beh.xlsx\n",
      "..\\..\\econdec\\sourcedata\\ds1\\sub-136\\sub-136_task-main_beh.xlsx\n",
      "..\\..\\econdec\\sourcedata\\ds1\\sub-137\\sub-137_task-main_beh.xlsx\n",
      "..\\..\\econdec\\sourcedata\\ds1\\sub-138\\sub-138_task-main_beh.xlsx\n",
      "..\\..\\econdec\\sourcedata\\ds1\\sub-139\\sub-139_task-main_beh.xlsx\n",
      "..\\..\\econdec\\sourcedata\\ds1\\sub-140\\sub-140_task-main_beh.xlsx\n",
      "..\\..\\econdec\\sourcedata\\ds1\\sub-141\\sub-141_task-main_beh.xlsx\n",
      "..\\..\\econdec\\sourcedata\\ds1\\sub-142\\sub-142_task-main_beh.xlsx\n",
      "..\\..\\econdec\\sourcedata\\ds1\\sub-143\\sub-143_task-main_beh.xlsx\n",
      "..\\..\\econdec\\sourcedata\\ds1\\sub-144\\sub-144_task-main_beh.xlsx\n",
      "..\\..\\econdec\\sourcedata\\ds1\\sub-145\\sub-145_task-main_beh.xlsx\n",
      "..\\..\\econdec\\sourcedata\\ds1\\sub-146\\sub-146_task-main_beh.xlsx\n",
      "..\\..\\econdec\\sourcedata\\ds1\\sub-147\\sub-147_task-main_beh.xlsx\n",
      "..\\..\\econdec\\sourcedata\\ds1\\sub-148\\sub-148_task-main_beh.xlsx\n",
      "..\\..\\econdec\\sourcedata\\ds1\\sub-149\\sub-149_task-main_beh.xlsx\n",
      "..\\..\\econdec\\sourcedata\\ds1\\sub-150\\sub-150_task-main_beh.xlsx\n",
      "..\\..\\econdec\\sourcedata\\ds1\\sub-151\\sub-151_task-main_beh.xlsx\n",
      "..\\..\\econdec\\sourcedata\\ds1\\sub-152\\sub-152_task-main_beh.xlsx\n",
      "..\\..\\econdec\\sourcedata\\ds1\\sub-153\\sub-153_task-main_beh.xlsx\n",
      "..\\..\\econdec\\sourcedata\\ds1\\sub-154\\sub-154_task-main_beh.xlsx\n",
      "..\\..\\econdec\\sourcedata\\ds1\\sub-155\\sub-155_task-main_beh.xlsx\n",
      "..\\..\\econdec\\sourcedata\\ds1\\sub-156\\sub-156_task-main_beh.xlsx\n",
      "..\\..\\econdec\\sourcedata\\ds1\\sub-157\\sub-157_task-main_beh.xlsx\n",
      "..\\..\\econdec\\sourcedata\\ds1\\sub-158\\sub-158_task-main_beh.xlsx\n",
      "..\\..\\econdec\\sourcedata\\ds1\\sub-159\\sub-159_task-main_beh.xlsx\n",
      "..\\..\\econdec\\sourcedata\\ds1\\sub-160\\sub-160_task-main_beh.xlsx\n",
      "..\\..\\econdec\\sourcedata\\ds1\\sub-161\\sub-161_task-main_beh.xlsx\n",
      "..\\..\\econdec\\sourcedata\\ds1\\sub-162\\sub-162_task-main_beh.xlsx\n",
      "..\\..\\econdec\\sourcedata\\ds1\\sub-163\\sub-163_task-main_beh.xlsx\n",
      "..\\..\\econdec\\sourcedata\\ds1\\sub-164\\sub-164_task-main_beh.xlsx\n",
      "..\\..\\econdec\\sourcedata\\ds1\\sub-166\\sub-166_task-main_beh.xlsx\n",
      "..\\..\\econdec\\sourcedata\\ds1\\sub-167\\sub-167_task-main_beh.xlsx\n",
      "..\\..\\econdec\\sourcedata\\ds1\\sub-168\\sub-168_task-main_beh.xlsx\n",
      "..\\..\\econdec\\sourcedata\\ds1\\sub-169\\sub-169_task-main_beh.xlsx\n",
      "..\\..\\econdec\\sourcedata\\ds1\\sub-170\\sub-170_task-main_beh.xlsx\n",
      "..\\..\\econdec\\sourcedata\\ds1\\sub-171\\sub-171_task-main_beh.xlsx\n",
      "..\\..\\econdec\\sourcedata\\ds1\\sub-172\\sub-172_task-main_beh.xlsx\n",
      "..\\..\\econdec\\sourcedata\\ds1\\sub-173\\sub-173_task-main_beh.xlsx\n",
      "..\\..\\econdec\\sourcedata\\ds1\\sub-174\\sub-174_task-main_beh.xlsx\n",
      "..\\..\\econdec\\sourcedata\\ds1\\sub-175\\sub-175_task-main_beh.xlsx\n",
      "..\\..\\econdec\\sourcedata\\ds1\\sub-176\\sub-176_task-main_beh.xlsx\n",
      "..\\..\\econdec\\sourcedata\\ds1\\sub-177\\sub-177_task-main_beh.xlsx\n",
      "..\\..\\econdec\\sourcedata\\ds1\\sub-178\\sub-178_task-main_beh.xlsx\n",
      "..\\..\\econdec\\sourcedata\\ds1\\sub-179\\sub-179_task-main_beh.xlsx\n",
      "..\\..\\econdec\\sourcedata\\ds1\\sub-180\\sub-180_task-main_beh.xlsx\n",
      "..\\..\\econdec\\sourcedata\\ds1\\sub-181\\sub-181_task-main_beh.xlsx\n",
      "..\\..\\econdec\\sourcedata\\ds1\\sub-182\\sub-182_task-main_beh.xlsx\n",
      "..\\..\\econdec\\sourcedata\\ds1\\sub-184\\sub-184_task-main_beh.xlsx\n",
      "..\\..\\econdec\\sourcedata\\ds1\\sub-185\\sub-185_task-main_beh.xlsx\n",
      "..\\..\\econdec\\sourcedata\\ds1\\sub-186\\sub-186_task-main_beh.xlsx\n",
      "..\\..\\econdec\\sourcedata\\ds1\\sub-187\\sub-187_task-main_beh.xlsx\n",
      "..\\..\\econdec\\sourcedata\\ds1\\sub-188\\sub-188_task-main_beh.xlsx\n",
      "..\\..\\econdec\\sourcedata\\ds1\\sub-189\\sub-189_task-main_beh.xlsx\n",
      "..\\..\\econdec\\sourcedata\\ds1\\sub-190\\sub-190_task-main_beh.xlsx\n",
      "..\\..\\econdec\\sourcedata\\ds1\\sub-191\\sub-191_task-main_beh.xlsx\n",
      "..\\sourcedata\\sub-401\\sub-401_task-main_beh.xlsx\n",
      "..\\sourcedata\\sub-402\\sub-402_task-main_beh.xlsx\n",
      "..\\sourcedata\\sub-403\\sub-403_task-main_beh.xlsx\n",
      "..\\sourcedata\\sub-404\\sub-404_task-main_beh.xlsx\n",
      "..\\sourcedata\\sub-405\\sub-405_task-main_beh.xlsx\n",
      "..\\sourcedata\\sub-406\\sub-406_task-main_beh.xlsx\n",
      "..\\sourcedata\\sub-407\\sub-407_task-main_beh.xlsx\n",
      "..\\sourcedata\\sub-408\\sub-408_task-main_beh.xlsx\n",
      "..\\sourcedata\\sub-409\\sub-409_task-main_beh.xlsx\n",
      "..\\sourcedata\\sub-410\\sub-410_task-main_beh.xlsx\n",
      "..\\sourcedata\\sub-411\\sub-411_task-main_beh.xlsx\n",
      "..\\sourcedata\\sub-412\\sub-412_task-main_beh.xlsx\n",
      "..\\sourcedata\\sub-413\\sub-413_task-main_beh.xlsx\n",
      "..\\sourcedata\\sub-414\\sub-414_task-main_beh.xlsx\n",
      "..\\sourcedata\\sub-415\\sub-415_task-main_beh.xlsx\n",
      "..\\sourcedata\\sub-416\\sub-416_task-main_beh.xlsx\n",
      "..\\sourcedata\\sub-418\\sub-418_task-main_beh.xlsx\n",
      "..\\sourcedata\\sub-419\\sub-419_task-main_beh.xlsx\n",
      "..\\sourcedata\\sub-420\\sub-420_task-main_beh.xlsx\n",
      "..\\sourcedata\\sub-421\\sub-421_task-main_beh.xlsx\n",
      "..\\sourcedata\\sub-422\\sub-422_task-main_beh.xlsx\n",
      "..\\sourcedata\\sub-423\\sub-423_task-main_beh.xlsx\n",
      "..\\sourcedata\\sub-424\\sub-424_task-main_beh.xlsx\n",
      "..\\sourcedata\\sub-425\\sub-425_task-main_beh.xlsx\n",
      "..\\sourcedata\\sub-428\\sub-428_task-main_beh.xlsx\n",
      "..\\sourcedata\\sub-429\\sub-429_task-main_beh.xlsx\n",
      "..\\sourcedata\\sub-430\\sub-430_task-main_beh.xlsx\n",
      "..\\sourcedata\\sub-431\\sub-431_task-main_beh.xlsx\n",
      "..\\sourcedata\\sub-432\\sub-432_task-main_beh.xlsx\n",
      "..\\sourcedata\\sub-433\\sub-433_task-main_beh.xlsx\n",
      "..\\sourcedata\\sub-434\\sub-434_task-main_beh.xlsx\n",
      "..\\sourcedata\\sub-437\\sub-437_task-main_beh.xlsx\n",
      "DONE!\n"
     ]
    }
   ],
   "source": [
    "dataframes_list = []\n",
    "for dataset in dataset_list:\n",
    "    source_dir = dataset\n",
    "    sub_list = [s for s in listdir(source_dir) if s.startswith('sub-')]\n",
    "    for sub in sub_list:\n",
    "        sub_dir = path.join(source_dir,sub)\n",
    "        file_list = [f for f in listdir(sub_dir) if f.endswith('_task-main_beh.xlsx')]\n",
    "        for file in file_list:\n",
    "            file_path = path.join(sub_dir,file)\n",
    "            print(file_path)\n",
    "            dataframes_list.append(pd.read_excel(file_path))\n",
    "print('DONE!')"
   ]
  },
  {
   "cell_type": "code",
   "execution_count": 16,
   "metadata": {},
   "outputs": [],
   "source": [
    "concat_df = pd.concat(dataframes_list)"
   ]
  },
  {
   "cell_type": "code",
   "execution_count": 17,
   "metadata": {},
   "outputs": [],
   "source": [
    "def clean_dates(date):\n",
    "    if isinstance(date, str):\n",
    "        return(date)\n",
    "    else: \n",
    "        return('_'.join(str(date).split(' ')[0].split('-')[1:]))"
   ]
  },
  {
   "cell_type": "code",
   "execution_count": 18,
   "metadata": {},
   "outputs": [],
   "source": [
    "concat_df.Date = np.vectorize(clean_dates)(concat_df['Date'])\n",
    "concat_df.StockPic = np.vectorize(path.basename)(concat_df['StockPic'])\n",
    "concat_df.BondPic = np.vectorize(path.basename)(concat_df['BondPic'])\n",
    "concat_df.FractalChosen = np.vectorize(path.basename)(concat_df['FractalChosen'])"
   ]
  },
  {
   "cell_type": "code",
   "execution_count": 19,
   "metadata": {},
   "outputs": [],
   "source": [
    "def clean_estimates(est):\n",
    "    if isinstance(est, int) and 100 >= est >= 0:\n",
    "        return(est / 100)\n",
    "    else: return(np.nan)"
   ]
  },
  {
   "cell_type": "code",
   "execution_count": 20,
   "metadata": {},
   "outputs": [],
   "source": [
    "concat_df.ProbGood = concat_df.ProbGood.apply(clean_estimates)"
   ]
  },
  {
   "cell_type": "code",
   "execution_count": 21,
   "metadata": {},
   "outputs": [],
   "source": [
    "concat_df ['val_estdiff_valid'] = concat_df.ProbGood - concat_df.TrueProbGood"
   ]
  },
  {
   "cell_type": "code",
   "execution_count": 22,
   "metadata": {},
   "outputs": [],
   "source": [
    "output_path = path.join(derivs_dir,'trialwise','main_trial_level.csv')\n",
    "concat_df.to_csv(output_path, index=0)"
   ]
  }
 ],
 "metadata": {
  "kernelspec": {
   "display_name": "Python 3",
   "language": "python",
   "name": "python3"
  },
  "language_info": {
   "codemirror_mode": {
    "name": "ipython",
    "version": 3
   },
   "file_extension": ".py",
   "mimetype": "text/x-python",
   "name": "python",
   "nbconvert_exporter": "python",
   "pygments_lexer": "ipython3",
   "version": "3.7.1"
  }
 },
 "nbformat": 4,
 "nbformat_minor": 2
}
