{
 "cells": [
  {
   "cell_type": "code",
   "execution_count": 1,
   "metadata": {},
   "outputs": [],
   "source": [
    "import os\n",
    "import pandas as pd\n",
    "import numpy as np\n",
    "from convert_eprime import convert as ep"
   ]
  },
  {
   "cell_type": "code",
   "execution_count": 2,
   "metadata": {},
   "outputs": [],
   "source": [
    "source_dir = os.path.join('..','sourcedata')\n",
    "derivs_dir = os.path.join('..','derivatives')"
   ]
  },
  {
   "cell_type": "markdown",
   "metadata": {},
   "source": [
    "# Convert all N-back data to csv"
   ]
  },
  {
   "cell_type": "markdown",
   "metadata": {},
   "source": [
    "#### Define a function to clean the N-back data\n",
    "\n",
    "Stack the blocks vertically instead of horizontally, label the trial rows properly, and tag each trial as a HIT, MISS, FA, CR. We are also ouputting a new CSV data file in the sourcedata folder, all cleaned-up."
   ]
  },
  {
   "cell_type": "code",
   "execution_count": 3,
   "metadata": {},
   "outputs": [],
   "source": [
    "def nstack_score_label(fpath,outpath):\n",
    "    df = pd.read_excel(fpath)\n",
    "    \n",
    "    # Hierarchicalize the column index\n",
    "    df.columns=pd.MultiIndex.from_tuples([\n",
    "        (df.columns[0].split('.')[0],df.columns[0].split('.')[1]),\n",
    "        (df.columns[1].split('.')[0],df.columns[1].split('.')[1]),\n",
    "        (df.columns[2].split('.')[0],df.columns[2].split('.')[1]),\n",
    "        (df.columns[3].split('.')[0],df.columns[3].split('.')[1]),\n",
    "        (df.columns[4].split('.')[0],df.columns[4].split('.')[1]),\n",
    "        (df.columns[5].split('.')[0],df.columns[5].split('.')[1]),\n",
    "    ])\n",
    "    \n",
    "    # Stack blocks, Reset trial row index, and Rename columns to be descriptive\n",
    "    df = df.stack(0).reset_index().rename(\n",
    "        columns={'level_0':'trial','level_1':'block'}\n",
    "    ).sort_values(['block','trial'])\n",
    "    df['sub'] = os.path.basename(fpath).split('_')[0].split('-')[1]\n",
    "    df['block'] = df['block'].str[1]\n",
    "    df['trial'] = df['trial'] + 1\n",
    "    df = df.set_index(['sub','block','trial'])\n",
    "    \n",
    "    # Determine Hits, CRs, FAs\n",
    "    cr_mask = (df['Rsp'] == 0) & (df['CRsp'] == 0)\n",
    "    ms_mask = (df['Rsp'] == 0) & (df['CRsp'] == 1)\n",
    "    fa_mask = (df['Rsp'] == 1) & (df['CRsp'] == 0)\n",
    "    ht_mask = (df['Rsp'] == 1) & (df['CRsp'] == 1)\n",
    "    df['CR']   = cr_mask.astype(int)\n",
    "    df['MISS'] = ms_mask.astype(int)\n",
    "    df['FA']   = fa_mask.astype(int)\n",
    "    df['HIT']  = ht_mask.astype(int)\n",
    "    \n",
    "    # Convert RT 0 to RT NaN\n",
    "    df['RT'] = df['RT'].replace(0,np.NaN)\n",
    "    \n",
    "    # Output to new CSV datafile\n",
    "    df.to_csv(outpath)\n",
    "    print('Output file successfully created- ',outpath)"
   ]
  },
  {
   "cell_type": "markdown",
   "metadata": {},
   "source": [
    "#### Read all the subject data\n",
    "\n",
    "Executing N-back data cleaning & Setting up for subject-level analysis."
   ]
  },
  {
   "cell_type": "code",
   "execution_count": 7,
   "metadata": {
    "scrolled": true
   },
   "outputs": [
    {
     "name": "stdout",
     "output_type": "stream",
     "text": [
      "..\\sourcedata\\sub-401\\sub-401_task-nback_beh.csv exists\n",
      "..\\sourcedata\\sub-402\\sub-402_task-nback_beh.csv exists\n",
      "..\\sourcedata\\sub-403\\sub-403_task-nback_beh.csv exists\n",
      "..\\sourcedata\\sub-404\\sub-404_task-nback_beh.csv exists\n",
      "..\\sourcedata\\sub-405\\sub-405_task-nback_beh.csv exists\n",
      "..\\sourcedata\\sub-406\\sub-406_task-nback_beh.csv exists\n",
      "..\\sourcedata\\sub-407\\sub-407_task-nback_beh.csv exists\n",
      "..\\sourcedata\\sub-408\\sub-408_task-nback_beh.csv exists\n",
      "..\\sourcedata\\sub-409\\sub-409_task-nback_beh.csv exists\n",
      "..\\sourcedata\\sub-410\\sub-410_task-nback_beh.csv exists\n",
      "..\\sourcedata\\sub-411\\sub-411_task-nback_beh.csv exists\n",
      "..\\sourcedata\\sub-412\\sub-412_task-nback_beh.csv exists\n",
      "..\\sourcedata\\sub-413\\sub-413_task-nback_beh.csv exists\n",
      "..\\sourcedata\\sub-414\\sub-414_task-nback_beh.csv exists\n",
      "..\\sourcedata\\sub-415\\sub-415_task-nback_beh.csv exists\n",
      "..\\sourcedata\\sub-416\\sub-416_task-nback_beh.csv exists\n",
      "..\\sourcedata\\sub-419\\sub-419_task-nback_beh.csv exists\n",
      "..\\sourcedata\\sub-420\\sub-420_task-nback_beh.csv exists\n",
      "..\\sourcedata\\sub-421\\sub-421_task-nback_beh.csv exists\n",
      "..\\sourcedata\\sub-422\\sub-422_task-nback_beh.csv exists\n",
      "..\\sourcedata\\sub-423\\sub-423_task-nback_beh.xlsx => ..\\sourcedata\\sub-423\\sub-423_task-nback_beh.csv\n",
      "Output file successfully created-  ..\\sourcedata\\sub-423\\sub-423_task-nback_beh.csv\n",
      "..\\sourcedata\\sub-424\\sub-424_task-nback_beh.xlsx => ..\\sourcedata\\sub-424\\sub-424_task-nback_beh.csv\n",
      "Output file successfully created-  ..\\sourcedata\\sub-424\\sub-424_task-nback_beh.csv\n",
      "..\\sourcedata\\sub-425\\sub-425_task-nback_beh.csv exists\n",
      "..\\sourcedata\\sub-428\\sub-428_task-nback_beh.csv exists\n",
      "..\\sourcedata\\sub-431\\sub-431_task-nback_beh.xlsx => ..\\sourcedata\\sub-431\\sub-431_task-nback_beh.csv\n",
      "Output file successfully created-  ..\\sourcedata\\sub-431\\sub-431_task-nback_beh.csv\n",
      "..\\sourcedata\\sub-437\\sub-437_task-nback_beh.csv exists\n"
     ]
    }
   ],
   "source": [
    "for s in os.listdir(source_dir):\n",
    "    if s.startswith('sub-4'):\n",
    "        sub_dir = os.path.join(source_dir,s)\n",
    "        for f in os.listdir(sub_dir):\n",
    "            if f.endswith('.xlsx') and f.split('_')[-2] == 'task-nback':\n",
    "                #print(f)\n",
    "                o = f.split('.')[0]+'.csv'\n",
    "                fpath = os.path.join(sub_dir,f)\n",
    "                opath = os.path.join(sub_dir,o)\n",
    "                if os.path.isfile(opath):\n",
    "                    print(opath,'exists')\n",
    "                else:\n",
    "                    o = os.path.basename(fpath).split('.')[0]+'.csv' \n",
    "                    opath = os.path.join(sub_dir,o)\n",
    "                    print(fpath,'=>',opath)\n",
    "                    nstack_score_label(fpath,opath)            "
   ]
  },
  {
   "cell_type": "markdown",
   "metadata": {},
   "source": [
    "# Combine subjects and output trial-level"
   ]
  },
  {
   "cell_type": "markdown",
   "metadata": {},
   "source": [
    "## Read in and concatenate subject datasheets"
   ]
  },
  {
   "cell_type": "code",
   "execution_count": 8,
   "metadata": {},
   "outputs": [
    {
     "name": "stdout",
     "output_type": "stream",
     "text": [
      "   sub  block  trial  CRsp  RT  Rsp  CR  MISS  FA  HIT\n",
      "0  401      1      1     0 NaN    0   1     0   0    0\n",
      "1  401      1      2     0 NaN    0   1     0   0    0\n",
      "2  401      1      3     0 NaN    0   1     0   0    0\n",
      "3  401      1      4     0 NaN    0   1     0   0    0\n",
      "4  401      1      5     0 NaN    0   1     0   0    0\n",
      "   sub  block  trial  CRsp  RT  Rsp  CR  MISS  FA  HIT\n",
      "0  402      1      1     0 NaN    0   1     0   0    0\n",
      "1  402      1      2     0 NaN    0   1     0   0    0\n",
      "2  402      1      3     0 NaN    0   1     0   0    0\n",
      "3  402      1      4     0 NaN    0   1     0   0    0\n",
      "4  402      1      5     0 NaN    0   1     0   0    0\n",
      "   sub  block  trial  CRsp  RT  Rsp  CR  MISS  FA  HIT\n",
      "0  403      1      1     0 NaN    0   1     0   0    0\n",
      "1  403      1      2     0 NaN    0   1     0   0    0\n",
      "2  403      1      3     0 NaN    0   1     0   0    0\n",
      "3  403      1      4     0 NaN    0   1     0   0    0\n",
      "4  403      1      5     0 NaN    0   1     0   0    0\n",
      "   sub  block  trial  CRsp  RT  Rsp  CR  MISS  FA  HIT\n",
      "0  404      1      1     0 NaN    0   1     0   0    0\n",
      "1  404      1      2     0 NaN    0   1     0   0    0\n",
      "2  404      1      3     0 NaN    0   1     0   0    0\n",
      "3  404      1      4     0 NaN    0   1     0   0    0\n",
      "4  404      1      5     0 NaN    0   1     0   0    0\n",
      "   sub  block  trial  CRsp  RT  Rsp  CR  MISS  FA  HIT\n",
      "0  405      1      1     0 NaN    0   1     0   0    0\n",
      "1  405      1      2     0 NaN    0   1     0   0    0\n",
      "2  405      1      3     0 NaN    0   1     0   0    0\n",
      "3  405      1      4     0 NaN    0   1     0   0    0\n",
      "4  405      1      5     0 NaN    0   1     0   0    0\n",
      "   sub  block  trial  CRsp  RT  Rsp  CR  MISS  FA  HIT\n",
      "0  406      1      1     0 NaN    0   1     0   0    0\n",
      "1  406      1      2     0 NaN    0   1     0   0    0\n",
      "2  406      1      3     0 NaN    0   1     0   0    0\n",
      "3  406      1      4     0 NaN    0   1     0   0    0\n",
      "4  406      1      5     0 NaN    0   1     0   0    0\n",
      "   sub  block  trial  CRsp  RT  Rsp  CR  MISS  FA  HIT\n",
      "0  407      1      1     0 NaN    0   1     0   0    0\n",
      "1  407      1      2     0 NaN    0   1     0   0    0\n",
      "2  407      1      3     0 NaN    0   1     0   0    0\n",
      "3  407      1      4     0 NaN    0   1     0   0    0\n",
      "4  407      1      5     0 NaN    0   1     0   0    0\n",
      "   sub  block  trial  CRsp  RT  Rsp  CR  MISS  FA  HIT\n",
      "0  408      1      1     0 NaN    0   1     0   0    0\n",
      "1  408      1      2     0 NaN    0   1     0   0    0\n",
      "2  408      1      3     0 NaN    0   1     0   0    0\n",
      "3  408      1      4     0 NaN    0   1     0   0    0\n",
      "4  408      1      5     0 NaN    0   1     0   0    0\n",
      "   sub  block  trial  CRsp  RT  Rsp  CR  MISS  FA  HIT\n",
      "0  409      1      1     0 NaN    0   1     0   0    0\n",
      "1  409      1      2     0 NaN    0   1     0   0    0\n",
      "2  409      1      3     0 NaN    0   1     0   0    0\n",
      "3  409      1      4     0 NaN    0   1     0   0    0\n",
      "4  409      1      5     0 NaN    1   0     0   1    0\n",
      "   sub  block  trial  CRsp  RT  Rsp  CR  MISS  FA  HIT\n",
      "0  410      1      1     0 NaN    0   1     0   0    0\n",
      "1  410      1      2     0 NaN    0   1     0   0    0\n",
      "2  410      1      3     0 NaN    0   1     0   0    0\n",
      "3  410      1      4     0 NaN    0   1     0   0    0\n",
      "4  410      1      5     0 NaN    0   1     0   0    0\n",
      "   sub  block  trial  CRsp  RT  Rsp  CR  MISS  FA  HIT\n",
      "0  411      1      1     0 NaN    0   1     0   0    0\n",
      "1  411      1      2     0 NaN    0   1     0   0    0\n",
      "2  411      1      3     0 NaN    0   1     0   0    0\n",
      "3  411      1      4     0 NaN    0   1     0   0    0\n",
      "4  411      1      5     0 NaN    0   1     0   0    0\n",
      "   sub  block  trial  CRsp  RT  Rsp  CR  MISS  FA  HIT\n",
      "0  412      1      1     0 NaN    0   1     0   0    0\n",
      "1  412      1      2     0 NaN    0   1     0   0    0\n",
      "2  412      1      3     0 NaN    0   1     0   0    0\n",
      "3  412      1      4     0 NaN    0   1     0   0    0\n",
      "4  412      1      5     0 NaN    0   1     0   0    0\n",
      "   sub  block  trial  CRsp  RT  Rsp  CR  MISS  FA  HIT\n",
      "0  413      1      1     0 NaN    0   1     0   0    0\n",
      "1  413      1      2     0 NaN    0   1     0   0    0\n",
      "2  413      1      3     0 NaN    0   1     0   0    0\n",
      "3  413      1      4     0 NaN    0   1     0   0    0\n",
      "4  413      1      5     0 NaN    0   1     0   0    0\n",
      "   sub  block  trial  CRsp  RT  Rsp  CR  MISS  FA  HIT\n",
      "0  414      1      1     0 NaN    0   1     0   0    0\n",
      "1  414      1      2     0 NaN    0   1     0   0    0\n",
      "2  414      1      3     0 NaN    0   1     0   0    0\n",
      "3  414      1      4     0 NaN    0   1     0   0    0\n",
      "4  414      1      5     0 NaN    0   1     0   0    0\n",
      "   sub  block  trial  CRsp  RT  Rsp  CR  MISS  FA  HIT\n",
      "0  415      1      1     0 NaN    0   1     0   0    0\n",
      "1  415      1      2     0 NaN    0   1     0   0    0\n",
      "2  415      1      3     0 NaN    0   1     0   0    0\n",
      "3  415      1      4     0 NaN    0   1     0   0    0\n",
      "4  415      1      5     0 NaN    0   1     0   0    0\n",
      "   sub  block  trial  CRsp  RT  Rsp  CR  MISS  FA  HIT\n",
      "0  416      1      1     0 NaN    0   1     0   0    0\n",
      "1  416      1      2     0 NaN    0   1     0   0    0\n",
      "2  416      1      3     0 NaN    0   1     0   0    0\n",
      "3  416      1      4     0 NaN    0   1     0   0    0\n",
      "4  416      1      5     0 NaN    0   1     0   0    0\n",
      "   sub  block  trial  CRsp  RT  Rsp  CR  MISS  FA  HIT\n",
      "0  419      1      1     0 NaN    0   1     0   0    0\n",
      "1  419      1      2     0 NaN    0   1     0   0    0\n",
      "2  419      1      3     0 NaN    0   1     0   0    0\n",
      "3  419      1      4     0 NaN    0   1     0   0    0\n",
      "4  419      1      5     0 NaN    0   1     0   0    0\n",
      "   sub  block  trial  CRsp  RT  Rsp  CR  MISS  FA  HIT\n",
      "0  420      1      1     0 NaN    0   1     0   0    0\n",
      "1  420      1      2     0 NaN    0   1     0   0    0\n",
      "2  420      1      3     0 NaN    0   1     0   0    0\n",
      "3  420      1      4     0 NaN    0   1     0   0    0\n",
      "4  420      1      5     0 NaN    0   1     0   0    0\n",
      "   sub  block  trial  CRsp  RT  Rsp  CR  MISS  FA  HIT\n",
      "0  421      1      1     0 NaN    0   1     0   0    0\n",
      "1  421      1      2     0 NaN    0   1     0   0    0\n",
      "2  421      1      3     0 NaN    0   1     0   0    0\n",
      "3  421      1      4     0 NaN    0   1     0   0    0\n",
      "4  421      1      5     0 NaN    0   1     0   0    0\n",
      "   sub  block  trial  CRsp  RT  Rsp  CR  MISS  FA  HIT\n",
      "0  422      1      1     0 NaN    0   1     0   0    0\n",
      "1  422      1      2     0 NaN    0   1     0   0    0\n",
      "2  422      1      3     0 NaN    0   1     0   0    0\n",
      "3  422      1      4     0 NaN    0   1     0   0    0\n",
      "4  422      1      5     0 NaN    0   1     0   0    0\n",
      "   sub  block  trial  CRsp  RT  Rsp  CR  MISS  FA  HIT\n",
      "0  423      1      1     0 NaN    0   1     0   0    0\n",
      "1  423      1      2     0 NaN    0   1     0   0    0\n",
      "2  423      1      3     0 NaN    0   1     0   0    0\n",
      "3  423      1      4     0 NaN    0   1     0   0    0\n",
      "4  423      1      5     0 NaN    0   1     0   0    0\n",
      "   sub  block  trial  CRsp  RT  Rsp  CR  MISS  FA  HIT\n",
      "0  424      1      1     0 NaN    0   1     0   0    0\n",
      "1  424      1      2     0 NaN    0   1     0   0    0\n",
      "2  424      1      3     0 NaN    0   1     0   0    0\n",
      "3  424      1      4     0 NaN    0   1     0   0    0\n",
      "4  424      1      5     0 NaN    0   1     0   0    0\n",
      "   sub  block  trial  CRsp  RT  Rsp  CR  MISS  FA  HIT\n",
      "0  425      1      1     0 NaN    0   1     0   0    0\n",
      "1  425      1      2     0 NaN    0   1     0   0    0\n",
      "2  425      1      3     0 NaN    0   1     0   0    0\n",
      "3  425      1      4     0 NaN    0   1     0   0    0\n",
      "4  425      1      5     0 NaN    0   1     0   0    0\n",
      "   sub  block  trial  CRsp  RT  Rsp  CR  MISS  FA  HIT\n",
      "0  428      1      1     0 NaN    0   1     0   0    0\n",
      "1  428      1      2     0 NaN    0   1     0   0    0\n",
      "2  428      1      3     0 NaN    0   1     0   0    0\n",
      "3  428      1      4     0 NaN    0   1     0   0    0\n",
      "4  428      1      5     0 NaN    0   1     0   0    0\n",
      "   sub  block  trial  CRsp  RT  Rsp  CR  MISS  FA  HIT\n",
      "0  431      1      1     0 NaN    0   1     0   0    0\n",
      "1  431      1      2     0 NaN    0   1     0   0    0\n",
      "2  431      1      3     0 NaN    0   1     0   0    0\n",
      "3  431      1      4     0 NaN    0   1     0   0    0\n",
      "4  431      1      5     0 NaN    0   1     0   0    0\n",
      "   sub  block  trial  CRsp  RT  Rsp  CR  MISS  FA  HIT\n",
      "0  437      1      1     0 NaN    0   1     0   0    0\n",
      "1  437      1      2     0 NaN    0   1     0   0    0\n",
      "2  437      1      3     0 NaN    0   1     0   0    0\n",
      "3  437      1      4     0 NaN    0   1     0   0    0\n",
      "4  437      1      5     0 NaN    0   1     0   0    0\n"
     ]
    }
   ],
   "source": [
    "cleaned_dataframes_list = []\n",
    "\n",
    "for s in os.listdir(source_dir):\n",
    "    if s.startswith('sub-4'):\n",
    "        sub_dir = os.path.join(source_dir,s)\n",
    "        for f in os.listdir(sub_dir):\n",
    "            if f.endswith('.csv') and f.split('_')[-2] == 'task-nback':\n",
    "                fpath = os.path.join(sub_dir,f)\n",
    "                df = pd.read_csv(fpath)\n",
    "                cleaned_dataframes_list.append(df)\n",
    "                print(df.head())"
   ]
  },
  {
   "cell_type": "code",
   "execution_count": 10,
   "metadata": {},
   "outputs": [],
   "source": [
    "nback_trial_level = pd.concat(cleaned_dataframes_list)"
   ]
  },
  {
   "cell_type": "markdown",
   "metadata": {},
   "source": [
    "###### Output N-back trial-level data"
   ]
  },
  {
   "cell_type": "code",
   "execution_count": 11,
   "metadata": {},
   "outputs": [],
   "source": [
    "nback_trial_level.to_csv(os.path.join(derivs_dir,'nback_trial_data.csv'),index=False)"
   ]
  },
  {
   "cell_type": "markdown",
   "metadata": {},
   "source": [
    "### Group, expand, trim N-back data\n",
    "Group by subjects, get the sum of all columns, the count of the trial column, and the mean of the RT column.\n",
    "\n",
    "Establish Hit % `number of Hits / number of targets` and FA % `number of FAs / number of foils`. \n",
    "\n",
    "Corrected Recognition `HIT% - FA%`. "
   ]
  },
  {
   "cell_type": "code",
   "execution_count": 12,
   "metadata": {
    "scrolled": true
   },
   "outputs": [
    {
     "data": {
      "text/html": [
       "<div>\n",
       "<style scoped>\n",
       "    .dataframe tbody tr th:only-of-type {\n",
       "        vertical-align: middle;\n",
       "    }\n",
       "\n",
       "    .dataframe tbody tr th {\n",
       "        vertical-align: top;\n",
       "    }\n",
       "\n",
       "    .dataframe thead th {\n",
       "        text-align: right;\n",
       "    }\n",
       "</style>\n",
       "<table border=\"1\" class=\"dataframe\">\n",
       "  <thead>\n",
       "    <tr style=\"text-align: right;\">\n",
       "      <th></th>\n",
       "      <th>RT</th>\n",
       "      <th>HIT%</th>\n",
       "      <th>FA%</th>\n",
       "      <th>CoR</th>\n",
       "    </tr>\n",
       "    <tr>\n",
       "      <th>sub</th>\n",
       "      <th></th>\n",
       "      <th></th>\n",
       "      <th></th>\n",
       "      <th></th>\n",
       "    </tr>\n",
       "  </thead>\n",
       "  <tbody>\n",
       "    <tr>\n",
       "      <th>401</th>\n",
       "      <td>642.000000</td>\n",
       "      <td>0.750</td>\n",
       "      <td>0.06250</td>\n",
       "      <td>0.68750</td>\n",
       "    </tr>\n",
       "    <tr>\n",
       "      <th>402</th>\n",
       "      <td>963.866667</td>\n",
       "      <td>0.750</td>\n",
       "      <td>0.28125</td>\n",
       "      <td>0.46875</td>\n",
       "    </tr>\n",
       "    <tr>\n",
       "      <th>403</th>\n",
       "      <td>946.444444</td>\n",
       "      <td>0.875</td>\n",
       "      <td>0.06250</td>\n",
       "      <td>0.81250</td>\n",
       "    </tr>\n",
       "    <tr>\n",
       "      <th>404</th>\n",
       "      <td>1466.400000</td>\n",
       "      <td>0.875</td>\n",
       "      <td>0.09375</td>\n",
       "      <td>0.78125</td>\n",
       "    </tr>\n",
       "    <tr>\n",
       "      <th>405</th>\n",
       "      <td>1000.875000</td>\n",
       "      <td>0.750</td>\n",
       "      <td>0.06250</td>\n",
       "      <td>0.68750</td>\n",
       "    </tr>\n",
       "  </tbody>\n",
       "</table>\n",
       "</div>"
      ],
      "text/plain": [
       "              RT   HIT%      FA%      CoR\n",
       "sub                                      \n",
       "401   642.000000  0.750  0.06250  0.68750\n",
       "402   963.866667  0.750  0.28125  0.46875\n",
       "403   946.444444  0.875  0.06250  0.81250\n",
       "404  1466.400000  0.875  0.09375  0.78125\n",
       "405  1000.875000  0.750  0.06250  0.68750"
      ]
     },
     "execution_count": 12,
     "metadata": {},
     "output_type": "execute_result"
    }
   ],
   "source": [
    "grouped = nback_trial_level.groupby('sub')\n",
    "nback_df = grouped.sum()\n",
    "nback_df['trial'] = grouped.count()['trial']\n",
    "nback_df['RT'] = grouped.mean()['RT']\n",
    "nback_df['HIT%'] = nback_df['HIT'] / nback_df['CRsp']\n",
    "nback_df['FA%'] = nback_df['FA'] / (nback_df['trial'] - nback_df['CRsp'])\n",
    "nback_df['CoR'] = nback_df['HIT%'] - nback_df['FA%']\n",
    "nback_df = nback_df[['RT','HIT%','FA%','CoR']]\n",
    "nback_df.head()"
   ]
  },
  {
   "cell_type": "markdown",
   "metadata": {},
   "source": [
    "###### Output N-back subject-level data"
   ]
  },
  {
   "cell_type": "code",
   "execution_count": 13,
   "metadata": {},
   "outputs": [],
   "source": [
    "nback_df.to_csv(os.path.join(derivs_dir,'nback_subject_data.csv'))"
   ]
  }
 ],
 "metadata": {
  "kernelspec": {
   "display_name": "Python 3",
   "language": "python",
   "name": "python3"
  },
  "language_info": {
   "codemirror_mode": {
    "name": "ipython",
    "version": 3
   },
   "file_extension": ".py",
   "mimetype": "text/x-python",
   "name": "python",
   "nbconvert_exporter": "python",
   "pygments_lexer": "ipython3",
   "version": "3.7.0"
  }
 },
 "nbformat": 4,
 "nbformat_minor": 2
}
