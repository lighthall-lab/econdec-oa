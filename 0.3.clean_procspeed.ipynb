{
 "cells": [
  {
   "cell_type": "code",
   "execution_count": 1,
   "metadata": {},
   "outputs": [],
   "source": [
    "import os\n",
    "import pandas as pd\n",
    "import numpy as np\n",
    "from convert_eprime import convert as ep"
   ]
  },
  {
   "cell_type": "code",
   "execution_count": 2,
   "metadata": {},
   "outputs": [],
   "source": [
    "source_dir = os.path.join('..','sourcedata')\n",
    "derivs_dir = os.path.join('..','derivatives')"
   ]
  },
  {
   "cell_type": "markdown",
   "metadata": {},
   "source": [
    "#### Read all the subject data\n",
    "\n",
    "Reading only data for the full sample (400-series). Executing  EPrime text-to-csv conversion. Setting up for subject-level analysis."
   ]
  },
  {
   "cell_type": "code",
   "execution_count": 3,
   "metadata": {
    "scrolled": true
   },
   "outputs": [
    {
     "name": "stdout",
     "output_type": "stream",
     "text": [
      "..\\sourcedata\\sub-401\\sub-401_task-procspeed_run-1_beh.csv exists\n",
      "Output file successfully created- ..\\sourcedata\\sub-401\\sub-401_task-procspeed_run-1_beh.csv\n",
      "..\\sourcedata\\sub-402\\sub-402_task-procspeed_run-1_beh.csv exists\n",
      "Output file successfully created- ..\\sourcedata\\sub-402\\sub-402_task-procspeed_run-1_beh.csv\n",
      "..\\sourcedata\\sub-403\\sub-403_task-procspeed_run-1_beh.csv exists\n",
      "Output file successfully created- ..\\sourcedata\\sub-403\\sub-403_task-procspeed_run-1_beh.csv\n",
      "..\\sourcedata\\sub-404\\sub-404_task-procspeed_run-1_beh.csv exists\n",
      "Output file successfully created- ..\\sourcedata\\sub-404\\sub-404_task-procspeed_run-1_beh.csv\n",
      "..\\sourcedata\\sub-405\\sub-405_task-procspeed_run-1_beh.csv exists\n",
      "Output file successfully created- ..\\sourcedata\\sub-405\\sub-405_task-procspeed_run-1_beh.csv\n",
      "..\\sourcedata\\sub-406\\sub-406_task-procspeed_run-1_beh.csv exists\n",
      "Output file successfully created- ..\\sourcedata\\sub-406\\sub-406_task-procspeed_run-1_beh.csv\n",
      "..\\sourcedata\\sub-407\\sub-407_task-procspeed_run-1_beh.csv exists\n",
      "Output file successfully created- ..\\sourcedata\\sub-407\\sub-407_task-procspeed_run-1_beh.csv\n",
      "..\\sourcedata\\sub-408\\sub-408_task-procspeed_run-1_beh.csv exists\n",
      "Output file successfully created- ..\\sourcedata\\sub-408\\sub-408_task-procspeed_run-1_beh.csv\n",
      "..\\sourcedata\\sub-409\\sub-409_task-procspeed_run-1_beh.csv exists\n",
      "Output file successfully created- ..\\sourcedata\\sub-409\\sub-409_task-procspeed_run-1_beh.csv\n",
      "..\\sourcedata\\sub-410\\sub-410_task-procspeed_run-1_beh.csv exists\n",
      "Output file successfully created- ..\\sourcedata\\sub-410\\sub-410_task-procspeed_run-1_beh.csv\n",
      "..\\sourcedata\\sub-411\\sub-411_task-procspeed_run-1_beh.csv exists\n",
      "Output file successfully created- ..\\sourcedata\\sub-411\\sub-411_task-procspeed_run-1_beh.csv\n",
      "..\\sourcedata\\sub-412\\sub-412_task-procspeed_run-1_beh.csv exists\n",
      "Output file successfully created- ..\\sourcedata\\sub-412\\sub-412_task-procspeed_run-1_beh.csv\n",
      "..\\sourcedata\\sub-413\\sub-413_task-procspeed_run-1_beh.csv exists\n",
      "Output file successfully created- ..\\sourcedata\\sub-413\\sub-413_task-procspeed_run-1_beh.csv\n",
      "..\\sourcedata\\sub-414\\sub-414_task-procspeed_run-1_beh.csv exists\n",
      "Output file successfully created- ..\\sourcedata\\sub-414\\sub-414_task-procspeed_run-1_beh.csv\n",
      "..\\sourcedata\\sub-415\\sub-415_task-procspeed_run-1_beh.csv exists\n",
      "Output file successfully created- ..\\sourcedata\\sub-415\\sub-415_task-procspeed_run-1_beh.csv\n",
      "..\\sourcedata\\sub-416\\sub-416_task-procspeed_run-1_beh.csv exists\n",
      "Output file successfully created- ..\\sourcedata\\sub-416\\sub-416_task-procspeed_run-1_beh.csv\n",
      "..\\sourcedata\\sub-418\\sub-418_task-procspeed_run-1_beh.csv exists\n",
      "Warning: LogFrame Starts and Ends do not match up. Including header metadata just in case.\n",
      "Output file successfully created- ..\\sourcedata\\sub-418\\sub-418_task-procspeed_run-1_beh.csv\n",
      "..\\sourcedata\\sub-419\\sub-419_task-procspeed_run-1_beh.csv exists\n",
      "Warning: LogFrame Starts and Ends do not match up. Including header metadata just in case.\n",
      "Output file successfully created- ..\\sourcedata\\sub-419\\sub-419_task-procspeed_run-1_beh.csv\n",
      "..\\sourcedata\\sub-420\\sub-420_task-procspeed_run-1_beh.csv exists\n",
      "Output file successfully created- ..\\sourcedata\\sub-420\\sub-420_task-procspeed_run-1_beh.csv\n",
      "..\\sourcedata\\sub-421\\sub-421_task-procspeed_run-1_beh.csv exists\n",
      "Warning: LogFrame Starts and Ends do not match up. Including header metadata just in case.\n",
      "Output file successfully created- ..\\sourcedata\\sub-421\\sub-421_task-procspeed_run-1_beh.csv\n",
      "..\\sourcedata\\sub-422\\sub-422_task-procspeed_run-1_beh.csv exists\n",
      "Output file successfully created- ..\\sourcedata\\sub-422\\sub-422_task-procspeed_run-1_beh.csv\n",
      "..\\sourcedata\\sub-423\\sub-423_task-procspeed_run-1_beh.csv exists\n",
      "Output file successfully created- ..\\sourcedata\\sub-423\\sub-423_task-procspeed_run-1_beh.csv\n",
      "..\\sourcedata\\sub-424\\sub-424_task-procspeed_run-1_beh.csv exists\n",
      "Output file successfully created- ..\\sourcedata\\sub-424\\sub-424_task-procspeed_run-1_beh.csv\n",
      "..\\sourcedata\\sub-425\\sub-425_task-procspeed_run-1_beh.csv exists\n",
      "Warning: LogFrame Starts and Ends do not match up. Including header metadata just in case.\n",
      "Output file successfully created- ..\\sourcedata\\sub-425\\sub-425_task-procspeed_run-1_beh.csv\n",
      "..\\sourcedata\\sub-428\\sub-428_task-procspeed_run-1_beh.csv exists\n",
      "Output file successfully created- ..\\sourcedata\\sub-428\\sub-428_task-procspeed_run-1_beh.csv\n",
      "..\\sourcedata\\sub-431\\sub-431_task-procspeed_run-1_beh.csv exists\n",
      "Output file successfully created- ..\\sourcedata\\sub-431\\sub-431_task-procspeed_run-1_beh.csv\n",
      "..\\sourcedata\\sub-437\\sub-437_task-procspeed_run-1_beh.csv exists\n",
      "Output file successfully created- ..\\sourcedata\\sub-437\\sub-437_task-procspeed_run-1_beh.csv\n"
     ]
    }
   ],
   "source": [
    "for s in os.listdir(source_dir):\n",
    "    if s.startswith('sub-4'):\n",
    "        sub_dir = os.path.join(source_dir,s)\n",
    "        for f in os.listdir(sub_dir):\n",
    "            if f.endswith('.txt') and f.split('_')[-3] == 'task-procspeed':\n",
    "                #print(f)\n",
    "                o = f.split('.')[0]+'.csv'\n",
    "                fpath = os.path.join(sub_dir,f)\n",
    "                opath = os.path.join(sub_dir,o)\n",
    "                if os.path.isfile(opath):\n",
    "                    print(opath,'exists')\n",
    "                else:\n",
    "                    o = os.path.basename(fpath).split('.')[0]+'.csv' \n",
    "                    opath = os.path.join(sub_dir,o)\n",
    "                    print(fpath,'=>',opath)\n",
    "                ep.text_to_csv(fpath,opath)"
   ]
  },
  {
   "cell_type": "markdown",
   "metadata": {},
   "source": [
    "# Combine subjects and output trial-level"
   ]
  },
  {
   "cell_type": "markdown",
   "metadata": {},
   "source": [
    "## Read in and concatenate subject datasheets"
   ]
  },
  {
   "cell_type": "code",
   "execution_count": 4,
   "metadata": {},
   "outputs": [],
   "source": [
    "cleaned_dataframes_list = []\n",
    "\n",
    "for s in os.listdir(source_dir):\n",
    "    if s.startswith('sub-4'):\n",
    "        sub_dir = os.path.join(source_dir,s)\n",
    "        for f in os.listdir(sub_dir):\n",
    "            if f.endswith('.csv') and f.split('_')[-3] == 'task-procspeed':\n",
    "                fpath = os.path.join(sub_dir,f)\n",
    "                df = pd.read_csv(fpath)\n",
    "                cleaned_dataframes_list.append(df)"
   ]
  },
  {
   "cell_type": "markdown",
   "metadata": {},
   "source": [
    "### ProcSpd data\n",
    "Cleanup: Rehomogenize subject column, concatenate all frames, drop unneeded columns and rows"
   ]
  },
  {
   "cell_type": "code",
   "execution_count": 6,
   "metadata": {},
   "outputs": [],
   "source": [
    "procspd_trials = pd.concat(cleaned_dataframes_list,sort=False)"
   ]
  },
  {
   "cell_type": "code",
   "execution_count": 7,
   "metadata": {},
   "outputs": [],
   "source": [
    "procspd_trials = procspd_trials[procspd_trials['Procedure']=='TrialProc']\n",
    "procspd_trials = procspd_trials[[\n",
    "    'Subject','TargetStimulus.RT','TargetStimulus.OnsetToOnsetTime','Buffer.RT'\n",
    "]]"
   ]
  },
  {
   "cell_type": "markdown",
   "metadata": {},
   "source": [
    "###### Combine response windows for final RT"
   ]
  },
  {
   "cell_type": "code",
   "execution_count": 10,
   "metadata": {},
   "outputs": [],
   "source": [
    "def calculate_rt(row):\n",
    "    initial = row['TargetStimulus.RT']\n",
    "    buffert = row['Buffer.RT']\n",
    "    initial_duration = row['TargetStimulus.OnsetToOnsetTime']\n",
    "    if initial == 0 and buffert > 0:\n",
    "        rt = buffert + initial_duration\n",
    "    elif initial > 0: rt = initial\n",
    "    else: rt = np.nan\n",
    "    return(rt)\n",
    "\n",
    "procspd_trials['RT'] = procspd_trials.apply(calculate_rt,axis=1)"
   ]
  },
  {
   "cell_type": "markdown",
   "metadata": {},
   "source": [
    "#### *Output ProcSpd trial-level data*"
   ]
  },
  {
   "cell_type": "code",
   "execution_count": 12,
   "metadata": {},
   "outputs": [],
   "source": [
    "fpath = os.path.join(derivs_dir,'procspd_trial_level.csv')\n",
    "procspd_trials.to_csv(fpath,index=False)"
   ]
  },
  {
   "cell_type": "markdown",
   "metadata": {},
   "source": [
    "#### *Group and output ProcSpd subject-level data*"
   ]
  },
  {
   "cell_type": "code",
   "execution_count": 15,
   "metadata": {},
   "outputs": [
    {
     "data": {
      "text/html": [
       "<div>\n",
       "<style scoped>\n",
       "    .dataframe tbody tr th:only-of-type {\n",
       "        vertical-align: middle;\n",
       "    }\n",
       "\n",
       "    .dataframe tbody tr th {\n",
       "        vertical-align: top;\n",
       "    }\n",
       "\n",
       "    .dataframe thead th {\n",
       "        text-align: right;\n",
       "    }\n",
       "</style>\n",
       "<table border=\"1\" class=\"dataframe\">\n",
       "  <thead>\n",
       "    <tr style=\"text-align: right;\">\n",
       "      <th></th>\n",
       "      <th>RT</th>\n",
       "    </tr>\n",
       "    <tr>\n",
       "      <th>Subject</th>\n",
       "      <th></th>\n",
       "    </tr>\n",
       "  </thead>\n",
       "  <tbody>\n",
       "    <tr>\n",
       "      <th>401</th>\n",
       "      <td>344.400000</td>\n",
       "    </tr>\n",
       "    <tr>\n",
       "      <th>402</th>\n",
       "      <td>319.000000</td>\n",
       "    </tr>\n",
       "    <tr>\n",
       "      <th>403</th>\n",
       "      <td>345.450000</td>\n",
       "    </tr>\n",
       "    <tr>\n",
       "      <th>404</th>\n",
       "      <td>511.450000</td>\n",
       "    </tr>\n",
       "    <tr>\n",
       "      <th>405</th>\n",
       "      <td>288.833333</td>\n",
       "    </tr>\n",
       "  </tbody>\n",
       "</table>\n",
       "</div>"
      ],
      "text/plain": [
       "                 RT\n",
       "Subject            \n",
       "401      344.400000\n",
       "402      319.000000\n",
       "403      345.450000\n",
       "404      511.450000\n",
       "405      288.833333"
      ]
     },
     "execution_count": 15,
     "metadata": {},
     "output_type": "execute_result"
    }
   ],
   "source": [
    "grouped = procspd_trials.groupby('Subject')\n",
    "procspd_subs = grouped.mean()[['RT']]\n",
    "procspd_subs.head()"
   ]
  },
  {
   "cell_type": "code",
   "execution_count": 16,
   "metadata": {},
   "outputs": [],
   "source": [
    "fpath = os.path.join(derivs_dir,'procspd_subject_level.csv')\n",
    "procspd_subs.to_csv(fpath)"
   ]
  }
 ],
 "metadata": {
  "kernelspec": {
   "display_name": "Python 3",
   "language": "python",
   "name": "python3"
  },
  "language_info": {
   "codemirror_mode": {
    "name": "ipython",
    "version": 3
   },
   "file_extension": ".py",
   "mimetype": "text/x-python",
   "name": "python",
   "nbconvert_exporter": "python",
   "pygments_lexer": "ipython3",
   "version": "3.7.0"
  }
 },
 "nbformat": 4,
 "nbformat_minor": 2
}
